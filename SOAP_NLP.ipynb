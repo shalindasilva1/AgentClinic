{
 "cells": [
  {
   "metadata": {},
   "cell_type": "markdown",
   "source": [
    "# SOAP NOTE NLP Analysis\n",
    "1. Form Dataset of the three different Doctor Notes\n",
    "2. Analyze for ...\n",
    "   1. Readability (Flesh Reading Ease)\n",
    "   2. Structure (POS-Ratio, Length)\n",
    "   3. Emotion (Sentiment Analysis)\n",
    "   4. Domain (Medical Term Density)"
   ],
   "id": "377c6898a83da8b1"
  },
  {
   "metadata": {},
   "cell_type": "markdown",
   "source": "### #1 Data Preparation",
   "id": "c9fb5a9e9ed9aef7"
  },
  {
   "cell_type": "code",
   "execution_count": null,
   "id": "initial_id",
   "metadata": {
    "collapsed": true
   },
   "outputs": [],
   "source": [
    "import pandas as pd\n",
    "# Example structure: soap_merged = pd.read_json('path_to_your_JSON.json')\n",
    "\n",
    "soap_merged = pd.DataFrame({\n",
    "    'ID': [],\n",
    "    'SOAP_Text': [],\n",
    "    'Group': [],  #1 - neutral, 2 - good, 3 - bad\n",
    "    'SOAP_Subjective': [],\n",
    "    'SOAP_Objective': [],\n",
    "    'SOAP_Assessment': [],\n",
    "    'SOAP_Plan': []\n",
    "})"
   ]
  },
  {
   "metadata": {},
   "cell_type": "markdown",
   "source": "### #2 Analysis",
   "id": "c358b38bfb967cdb"
  },
  {
   "metadata": {
    "ExecuteTime": {
     "end_time": "2025-10-22T07:35:29.283410Z",
     "start_time": "2025-10-22T07:35:29.249545Z"
    }
   },
   "cell_type": "code",
   "source": [
    "# READABILITY\n",
    "!pip install py-readability-metrics\n",
    "!python -m nltk.downloader punkt\n",
    "\n",
    "from readability import Readability\n",
    "\n",
    "def compute_readability(text):\n",
    "    r = Readability(str(text))\n",
    "    fk = r.flesch_kincaid()\n",
    "    smog = r.smog()\n",
    "    return pd.Series({\n",
    "        'fk_score': fk.score,\n",
    "        'fk_grade': fk.grade_level,\n",
    "        'smog_score': smog.score,\n",
    "        'smog_grade': smog.grade_level\n",
    "    })\n",
    "\n",
    "readability_df = soap_merged['SOAP_Text'].apply(compute_readability)\n",
    "soap_merged = pd.concat([soap_merged, readability_df], axis=1)"
   ],
   "id": "45fb5f5a3241b825",
   "outputs": [],
   "execution_count": 1
  },
  {
   "metadata": {},
   "cell_type": "code",
   "outputs": [],
   "execution_count": null,
   "source": [
    "# LENGTH, POS ANALYSIS & SENTIMENT\n",
    "!pip install nltk\n",
    "import nltk\n",
    "from nltk import word_tokenize, pos_tag\n",
    "from textblob import TextBlob\n",
    "\n",
    "nltk.download('punkt')\n",
    "nltk.download('averaged_perceptron_tagger')\n",
    "\n",
    "def analyze_text_features(text):\n",
    "    tokens = word_tokenize(str(text))\n",
    "    length = len(tokens) #ength\n",
    "\n",
    "    tags = pos_tag(tokens)\n",
    "    pos_counter = nltk.FreqDist(tag for word, tag in tags) # POS Count\n",
    "\n",
    "    sentiment = TextBlob(str(text)).sentiment.polarity #sentiment\n",
    "\n",
    "    return pd.Series({\n",
    "        'length': length,\n",
    "        'sentiment': sentiment,\n",
    "        **pos_counter  # each POS tag becomes a column\n",
    "    })\n",
    "\n",
    "pos_sentiment_df = soap_merged['SOAP_Text'].apply(analyze_text_features)\n",
    "soap_merged = pd.concat([soap_merged, pos_sentiment_df], axis=1)"
   ],
   "id": "ce635217033a7bad"
  },
  {
   "metadata": {},
   "cell_type": "code",
   "outputs": [],
   "execution_count": null,
   "source": [
    "# MEDICAL TERM DENSITY\n",
    "\n",
    "!pip install pymetamap\n",
    "\n",
    "from nltk.stem import WordNetLemmatizer\n",
    "from pymetamap import MetaMap\n",
    "\n",
    "lemmatizer = WordNetLemmatizer()\n",
    "\n",
    "def lemmatize_text(text):\n",
    "    tokens = nltk.word_tokenize(str(text))\n",
    "    return [lemmatizer.lemmatize(t.lower()) for t in tokens]\n",
    "\n",
    "# Provide path to your MetaMap Lite installation\n",
    "# mm = MetaMap.get_instance('/path/to/metamap/lite')\n",
    "\n",
    "def compute_medical_density(text, allowed_semtypes=['Disease or Syndrome', 'Finding', 'Procedure']):\n",
    "    lemmas = \" \".join(lemmatize_text(text))\n",
    "    concepts = mm.extract_concepts([lemmas])[0]  # list of concept objects\n",
    "\n",
    "    # Filter by semantic type\n",
    "    filtered = [c for c in concepts if any(st in allowed_semtypes for st in c.semtypes)]\n",
    "    num_tokens = len(lemmas.split())\n",
    "    if num_tokens == 0:\n",
    "        return 0\n",
    "    return len(filtered) / num_tokens\n",
    "\n",
    "# soap_merged['medical_density'] = soap_merged['SOAP_Text'].apply(compute_medical_density)"
   ],
   "id": "f521148a5aa8ad0d"
  },
  {
   "metadata": {},
   "cell_type": "code",
   "outputs": [],
   "execution_count": null,
   "source": [
    "import seaborn as sns\n",
    "import matplotlib.pyplot as plt\n",
    "\n",
    "sns.boxplot(x='Group', y='sentiment', data=soap_merged)\n",
    "plt.title(\"Sentiment by SOAP Group\")\n",
    "plt.show()\n",
    "\n",
    "sns.boxplot(x='Group', y='length', data=soap_merged)\n",
    "plt.title(\"Length by SOAP Group\")\n",
    "plt.show()"
   ],
   "id": "566d051fc785bda0"
  },
  {
   "metadata": {},
   "cell_type": "code",
   "outputs": [],
   "execution_count": null,
   "source": [
    "# CLASSIFICATION (3 Clusters)\n",
    "# Can it distinguish based on the SOAP Note generation, from which Doctor the Note came?\n",
    "from sklearn.model_selection import train_test_split\n",
    "from sklearn.ensemble import RandomForestClassifier\n",
    "from sklearn.metrics import classification_report\n",
    "\n",
    "# Feature selection - include POS counts, readability, sentiment, length, and medical density\n",
    "feature_cols = ['length', 'sentiment', 'fk_score', 'smog_score']  # extend with POS counts and medical_density when available\n",
    "\n",
    "X = soap_merged[feature_cols]\n",
    "y = soap_merged['Group']  # or 'Doctor_Type'\n",
    "\n",
    "X_train, X_test, y_train, y_test = train_test_split(X, y, test_size=0.2, random_state=42)\n",
    "\n",
    "clf = RandomForestClassifier(n_estimators=200, random_state=42)\n",
    "clf.fit(X_train, y_train)\n",
    "y_pred = clf.predict(X_test)\n",
    "\n",
    "print(classification_report(y_test, y_pred))"
   ],
   "id": "89072aba9a1b6ee7"
  }
 ],
 "metadata": {
  "kernelspec": {
   "display_name": "Python 3",
   "language": "python",
   "name": "python3"
  },
  "language_info": {
   "codemirror_mode": {
    "name": "ipython",
    "version": 2
   },
   "file_extension": ".py",
   "mimetype": "text/x-python",
   "name": "python",
   "nbconvert_exporter": "python",
   "pygments_lexer": "ipython2",
   "version": "2.7.6"
  }
 },
 "nbformat": 4,
 "nbformat_minor": 5
}
